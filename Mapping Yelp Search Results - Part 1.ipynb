{
 "cells": [
  {
   "cell_type": "markdown",
   "metadata": {
    "id": "8guYh-VR7nlX"
   },
   "source": [
    "# Mapping Yelp Search Results - Part 1"
   ]
  },
  {
   "cell_type": "markdown",
   "metadata": {},
   "source": [
    "- 04/26/22\n"
   ]
  },
  {
   "cell_type": "markdown",
   "metadata": {},
   "source": [
    "## Obective"
   ]
  },
  {
   "cell_type": "markdown",
   "metadata": {
    "id": "8guYh-VR7nlX"
   },
   "source": [
    "- For this CodeAlong, we will be working with the Yelp API. \n",
    "- You will use the the Yelp API to search your home town for a cuisine type of your choice.\n",
    "- Next class, we will then use Plotly Express to create a map with the Mapbox API to visualize the results.\n",
    "    \n",
    "    "
   ]
  },
  {
   "cell_type": "markdown",
   "metadata": {
    "id": "8guYh-VR7nlX"
   },
   "source": [
    "## Tools You Will Use\n",
    "- Part 1:\n",
    "    - Yelp API:\n",
    "        - Getting Started: \n",
    "            - https://www.yelp.com/developers/documentation/v3/get_started\n",
    "\n",
    "    - `YelpAPI` python package\n",
    "        -  \"YelpAPI\": https://github.com/gfairchild/yelpapi\n",
    "- Part 2:\n",
    "\n",
    "    - Plotly Express: https://plotly.com/python/getting-started/\n",
    "        - With Mapbox API: https://www.mapbox.com/\n",
    "        - `px.scatter_mapbox` [Documentation](https://plotly.com/python/scattermapbox/): \n",
    "\n",
    "\n"
   ]
  },
  {
   "cell_type": "markdown",
   "metadata": {},
   "source": [
    "### Applying Code From\n",
    "- Efficient API Calls Lesson Link: https://login.codingdojo.com/m/376/12529/88078"
   ]
  },
  {
   "cell_type": "code",
   "execution_count": 38,
   "metadata": {},
   "outputs": [
    {
     "name": "stdout",
     "output_type": "stream",
     "text": [
      "Requirement already satisfied: tqdm in /opt/homebrew/Caskroom/miniforge/base/envs/dojo-env/lib/python3.8/site-packages (4.64.0)\r\n"
     ]
    }
   ],
   "source": [
    "# !pip install yelpapi\n",
    "!pip install tqdm"
   ]
  },
  {
   "cell_type": "code",
   "execution_count": 39,
   "metadata": {},
   "outputs": [],
   "source": [
    "# Standard Imports\n",
    "import numpy as np\n",
    "import pandas as pd\n",
    "import matplotlib.pyplot as plt\n",
    "import seaborn as sns\n",
    "\n",
    "# Additional Imports\n",
    "import os, json, math, time\n",
    "from yelpapi import YelpAPI\n",
    "from tqdm.notebook import tqdm_notebook"
   ]
  },
  {
   "cell_type": "markdown",
   "metadata": {
    "id": "1l3Z-79nBSX9"
   },
   "source": [
    "## 1. Registering for Required APIs"
   ]
  },
  {
   "cell_type": "markdown",
   "metadata": {
    "id": "1l3Z-79nBSX9"
   },
   "source": [
    "\n",
    "- Yelp: https://www.yelp.com/developers/documentation/v3/get_started\n"
   ]
  },
  {
   "cell_type": "markdown",
   "metadata": {},
   "source": [
    "> Check the official API documentation to know what arguments we can search for: https://www.yelp.com/developers/documentation/v3/business_search"
   ]
  },
  {
   "cell_type": "markdown",
   "metadata": {},
   "source": [
    "### Load Credentials and Create Yelp API Object"
   ]
  },
  {
   "cell_type": "code",
   "execution_count": 40,
   "metadata": {
    "ExecuteTime": {
     "end_time": "2022-03-25T18:20:46.629934Z",
     "start_time": "2022-03-25T18:20:45.915864Z"
    },
    "colab": {
     "base_uri": "https://localhost:8080/"
    },
    "id": "xJYqVvNkE36a",
    "outputId": "67798160-dea2-41fc-9040-2b3833efa560"
   },
   "outputs": [
    {
     "data": {
      "text/plain": [
       "dict_keys(['client-id', 'api-key'])"
      ]
     },
     "execution_count": 40,
     "metadata": {},
     "output_type": "execute_result"
    }
   ],
   "source": [
    "# Load API Credentials\n",
    "with open('/Users/codingdojo/.secret/yelp_api.json') as f:\n",
    "    login = json.load(f)\n",
    "login.keys()"
   ]
  },
  {
   "cell_type": "code",
   "execution_count": 41,
   "metadata": {},
   "outputs": [
    {
     "data": {
      "text/plain": [
       "<yelpapi.yelpapi.YelpAPI at 0x17e4a0be0>"
      ]
     },
     "execution_count": 41,
     "metadata": {},
     "output_type": "execute_result"
    }
   ],
   "source": [
    "# Instantiate YelpAPI Variable\n",
    "yelp = YelpAPI(login['api-key'], timeout_s=5)\n",
    "yelp"
   ]
  },
  {
   "cell_type": "code",
   "execution_count": 42,
   "metadata": {},
   "outputs": [],
   "source": [
    "# help(yelp)"
   ]
  },
  {
   "cell_type": "markdown",
   "metadata": {},
   "source": [
    "### Define Search Terms and File Paths"
   ]
  },
  {
   "cell_type": "code",
   "execution_count": 43,
   "metadata": {},
   "outputs": [],
   "source": [
    "# set our API call parameters and filename before the first call\n",
    "LOCATION = \"Baltimore, MD, 21202\"\n",
    "TERM = \"Burgers\""
   ]
  },
  {
   "cell_type": "code",
   "execution_count": 44,
   "metadata": {},
   "outputs": [],
   "source": [
    "## Specify folder for saving data\n",
    "FOLDER = \"Data/\"\n",
    "os.makedirs(FOLDER , exist_ok=True)"
   ]
  },
  {
   "cell_type": "code",
   "execution_count": 45,
   "metadata": {},
   "outputs": [
    {
     "data": {
      "text/plain": [
       "'Baltimore'"
      ]
     },
     "execution_count": 45,
     "metadata": {},
     "output_type": "execute_result"
    }
   ],
   "source": [
    "LOCATION.split(',')[0]"
   ]
  },
  {
   "cell_type": "code",
   "execution_count": 46,
   "metadata": {},
   "outputs": [
    {
     "data": {
      "text/plain": [
       "'Data/Burgers_Baltimore.json'"
      ]
     },
     "execution_count": 46,
     "metadata": {},
     "output_type": "execute_result"
    }
   ],
   "source": [
    "# Specifying JSON_FILE filename (can include a folder)\n",
    "JSON_FILE = f\"{FOLDER}{TERM}_{LOCATION.split(',')[0]}.json\"\n",
    "JSON_FILE"
   ]
  },
  {
   "cell_type": "markdown",
   "metadata": {},
   "source": [
    "### Check if Json File exists and Create it if it doesn't"
   ]
  },
  {
   "cell_type": "code",
   "execution_count": 47,
   "metadata": {},
   "outputs": [
    {
     "data": {
      "text/plain": [
       "'Data'"
      ]
     },
     "execution_count": 47,
     "metadata": {},
     "output_type": "execute_result"
    }
   ],
   "source": [
    "os.path.dirname(JSON_FILE)"
   ]
  },
  {
   "cell_type": "code",
   "execution_count": 48,
   "metadata": {},
   "outputs": [
    {
     "name": "stdout",
     "output_type": "stream",
     "text": [
      "[i] Data/Burgers_Baltimore.json already exists.\n"
     ]
    }
   ],
   "source": [
    "## Check if JSON_FILE exists\n",
    "file_exists = os.path.isfile(JSON_FILE)\n",
    "## If it does not exist: \n",
    "if file_exists == False:\n",
    "    ## CREATE ANY NEEDED FOLDERS\n",
    "    # Get the Folder Name only\n",
    "    folder = os.path.dirname(JSON_FILE)\n",
    "    \n",
    "    ## If JSON_FILE included a folder:\n",
    "    if len(folder)>0:\n",
    "        # create the folder\n",
    "        os.makedirs(folder,exist_ok=True)\n",
    "        \n",
    "        \n",
    "    ## INFORM USER AND SAVE EMPTY LIST\n",
    "    print(f\"[i] {JSON_FILE} not found. Saving empty list to file.\")\n",
    "    ## saving empty file\n",
    "    with open(JSON_FILE,'w') as f:\n",
    "        json.dump([], f)\n",
    "    \n",
    "\n",
    "        \n",
    "## If it exists, inform user\n",
    "else:\n",
    "    print(f\"[i] {JSON_FILE} already exists.\")"
   ]
  },
  {
   "cell_type": "markdown",
   "metadata": {},
   "source": [
    "### Load JSON FIle and account for previous results"
   ]
  },
  {
   "cell_type": "code",
   "execution_count": 49,
   "metadata": {},
   "outputs": [
    {
     "name": "stdout",
     "output_type": "stream",
     "text": [
      "- 0 previous results found.\n"
     ]
    }
   ],
   "source": [
    "## Load previous results and use len of results for offset\n",
    "with open(JSON_FILE,'r') as f:\n",
    "    previous_results = json.load(f)\n",
    "\n",
    "## set offset based on previous results\n",
    "n_results = len(previous_results)\n",
    "print(f'- {n_results} previous results found.')"
   ]
  },
  {
   "cell_type": "markdown",
   "metadata": {},
   "source": [
    "### Make the first API call to get the first page of data"
   ]
  },
  {
   "cell_type": "markdown",
   "metadata": {},
   "source": [
    "- We will use this first result to check:\n",
    "    - how many total results there are?\n",
    "    - Where is the actual data we want to save?\n",
    "    - how many results do we get at a time?\n"
   ]
  },
  {
   "cell_type": "code",
   "execution_count": 50,
   "metadata": {},
   "outputs": [
    {
     "data": {
      "text/plain": [
       "dict_keys(['businesses', 'total', 'region'])"
      ]
     },
     "execution_count": 50,
     "metadata": {},
     "output_type": "execute_result"
    }
   ],
   "source": [
    "# use our yelp_api variable's search_query method to perform our API call\n",
    "results = yelp.search_query(term=TERM, location=LOCATION)\n",
    "results.keys()"
   ]
  },
  {
   "cell_type": "code",
   "execution_count": 51,
   "metadata": {
    "ExecuteTime": {
     "end_time": "2022-03-24T20:01:48.867510Z",
     "start_time": "2022-03-24T20:01:48.854746Z"
    },
    "colab": {
     "base_uri": "https://localhost:8080/"
    },
    "id": "Myur3i1KGhPf",
    "outputId": "f447c6f9-596b-41d0-ccda-50af0ce82108"
   },
   "outputs": [
    {
     "data": {
      "text/plain": [
       "530"
      ]
     },
     "execution_count": 51,
     "metadata": {},
     "output_type": "execute_result"
    }
   ],
   "source": [
    "## How many results total?\n",
    "results['total']"
   ]
  },
  {
   "cell_type": "markdown",
   "metadata": {},
   "source": [
    "- Where is the actual data we want to save?"
   ]
  },
  {
   "cell_type": "code",
   "execution_count": 52,
   "metadata": {},
   "outputs": [
    {
     "data": {
      "text/plain": [
       "list"
      ]
     },
     "execution_count": 52,
     "metadata": {},
     "output_type": "execute_result"
    }
   ],
   "source": [
    "type(results['businesses'])"
   ]
  },
  {
   "cell_type": "code",
   "execution_count": 53,
   "metadata": {},
   "outputs": [
    {
     "data": {
      "text/plain": [
       "20"
      ]
     },
     "execution_count": 53,
     "metadata": {},
     "output_type": "execute_result"
    }
   ],
   "source": [
    "## How many did we get the details for?\n",
    "results_per_page = len(results['businesses'])\n",
    "results_per_page"
   ]
  },
  {
   "cell_type": "markdown",
   "metadata": {},
   "source": [
    "- Calculate how many pages of results needed to cover the total_results"
   ]
  },
  {
   "cell_type": "code",
   "execution_count": 54,
   "metadata": {},
   "outputs": [
    {
     "data": {
      "text/plain": [
       "27"
      ]
     },
     "execution_count": 54,
     "metadata": {},
     "output_type": "execute_result"
    }
   ],
   "source": [
    "# Use math.ceil to round up for the total number of pages of results.\n",
    "n_pages = math.ceil(results['total'] / results_per_page)\n",
    "n_pages"
   ]
  },
  {
   "cell_type": "code",
   "execution_count": 55,
   "metadata": {},
   "outputs": [
    {
     "data": {
      "application/vnd.jupyter.widget-view+json": {
       "model_id": "bf1a05397f944e1cba247db92485ccaa",
       "version_major": 2,
       "version_minor": 0
      },
      "text/plain": [
       "  0%|          | 0/28 [00:00<?, ?it/s]"
      ]
     },
     "metadata": {},
     "output_type": "display_data"
    }
   ],
   "source": [
    "for i in tqdm_notebook( range(0,n_pages+1)):\n",
    "    ## The block of code we want to TRY to run\n",
    "    try:\n",
    "        time.sleep(.2)\n",
    "        ## Read in results in progress file and check the length\n",
    "        ## Load previous results and use len of results for offset\n",
    "        with open(JSON_FILE,'r') as f:\n",
    "            previous_results = json.load(f)\n",
    "\n",
    "        ## set offset based on previous results\n",
    "        n_results = len(previous_results)\n",
    "        \n",
    "        ## use n_results as the OFFSET \n",
    "        results = yelp.search_query(term=TERM, \n",
    "                                    location=LOCATION,\n",
    "                                   offset=n_results+1)\n",
    "        \n",
    "        \n",
    "        \n",
    "\n",
    "        \n",
    "\n",
    "        ## append new results and save to file\n",
    "        previous_results.extend( results['businesses'])\n",
    "\n",
    "        with open(JSON_FILE,'w') as f:\n",
    "            json.dump(previous_results, f)\n",
    "    ## What to do if we get an error/exception.\n",
    "    except Exception as e:\n",
    "        print(e)\n",
    "        break"
   ]
  },
  {
   "cell_type": "markdown",
   "metadata": {},
   "source": [
    "## Open the Final JSON File with Pandas"
   ]
  },
  {
   "cell_type": "code",
   "execution_count": 56,
   "metadata": {},
   "outputs": [
    {
     "data": {
      "text/html": [
       "<div>\n",
       "<style scoped>\n",
       "    .dataframe tbody tr th:only-of-type {\n",
       "        vertical-align: middle;\n",
       "    }\n",
       "\n",
       "    .dataframe tbody tr th {\n",
       "        vertical-align: top;\n",
       "    }\n",
       "\n",
       "    .dataframe thead th {\n",
       "        text-align: right;\n",
       "    }\n",
       "</style>\n",
       "<table border=\"1\" class=\"dataframe\">\n",
       "  <thead>\n",
       "    <tr style=\"text-align: right;\">\n",
       "      <th></th>\n",
       "      <th>id</th>\n",
       "      <th>alias</th>\n",
       "      <th>name</th>\n",
       "      <th>image_url</th>\n",
       "      <th>is_closed</th>\n",
       "      <th>url</th>\n",
       "      <th>review_count</th>\n",
       "      <th>categories</th>\n",
       "      <th>rating</th>\n",
       "      <th>coordinates</th>\n",
       "      <th>transactions</th>\n",
       "      <th>price</th>\n",
       "      <th>location</th>\n",
       "      <th>phone</th>\n",
       "      <th>display_phone</th>\n",
       "      <th>distance</th>\n",
       "    </tr>\n",
       "  </thead>\n",
       "  <tbody>\n",
       "    <tr>\n",
       "      <th>0</th>\n",
       "      <td>AQ56plNP56TIk3JswtoiMA</td>\n",
       "      <td>abbey-burger-bistro-baltimore-4</td>\n",
       "      <td>Abbey Burger Bistro</td>\n",
       "      <td>https://s3-media4.fl.yelpcdn.com/bphoto/_ZZ4nI...</td>\n",
       "      <td>False</td>\n",
       "      <td>https://www.yelp.com/biz/abbey-burger-bistro-b...</td>\n",
       "      <td>914</td>\n",
       "      <td>[{'alias': 'sportsbars', 'title': 'Sports Bars...</td>\n",
       "      <td>4.0</td>\n",
       "      <td>{'latitude': 39.2771835822848, 'longitude': -7...</td>\n",
       "      <td>[delivery, pickup]</td>\n",
       "      <td>$$</td>\n",
       "      <td>{'address1': '1041 Marshall St', 'address2': '...</td>\n",
       "      <td>+14434539698</td>\n",
       "      <td>(443) 453-9698</td>\n",
       "      <td>2161.212353</td>\n",
       "    </tr>\n",
       "    <tr>\n",
       "      <th>1</th>\n",
       "      <td>3j6GTI0V2Jshw8e1c3uFoA</td>\n",
       "      <td>the-urban-burger-bar-baltimore</td>\n",
       "      <td>The Urban Burger Bar</td>\n",
       "      <td>https://s3-media1.fl.yelpcdn.com/bphoto/mmtgGp...</td>\n",
       "      <td>False</td>\n",
       "      <td>https://www.yelp.com/biz/the-urban-burger-bar-...</td>\n",
       "      <td>32</td>\n",
       "      <td>[{'alias': 'burgers', 'title': 'Burgers'}]</td>\n",
       "      <td>4.5</td>\n",
       "      <td>{'latitude': 39.32696, 'longitude': -76.63753}</td>\n",
       "      <td>[delivery, pickup]</td>\n",
       "      <td>$$</td>\n",
       "      <td>{'address1': '3300 Clipper Mill Rd', 'address2...</td>\n",
       "      <td></td>\n",
       "      <td></td>\n",
       "      <td>4242.702639</td>\n",
       "    </tr>\n",
       "    <tr>\n",
       "      <th>2</th>\n",
       "      <td>QHVUhI8JBAcqGj1JufDcHw</td>\n",
       "      <td>wiley-gunters-baltimore</td>\n",
       "      <td>Wiley Gunters</td>\n",
       "      <td>https://s3-media3.fl.yelpcdn.com/bphoto/Lc-4k9...</td>\n",
       "      <td>False</td>\n",
       "      <td>https://www.yelp.com/biz/wiley-gunters-baltimo...</td>\n",
       "      <td>135</td>\n",
       "      <td>[{'alias': 'burgers', 'title': 'Burgers'}, {'a...</td>\n",
       "      <td>4.5</td>\n",
       "      <td>{'latitude': 39.27174, 'longitude': -76.60223}</td>\n",
       "      <td>[delivery, pickup]</td>\n",
       "      <td>$$</td>\n",
       "      <td>{'address1': '823 E Fort Ave', 'address2': '',...</td>\n",
       "      <td>+14106373699</td>\n",
       "      <td>(410) 637-3699</td>\n",
       "      <td>2754.995467</td>\n",
       "    </tr>\n",
       "    <tr>\n",
       "      <th>3</th>\n",
       "      <td>jvKhto6__tCGfs2N27oWdg</td>\n",
       "      <td>the-outpost-american-tavern-baltimore-2</td>\n",
       "      <td>The Outpost American Tavern</td>\n",
       "      <td>https://s3-media2.fl.yelpcdn.com/bphoto/4bN4vA...</td>\n",
       "      <td>False</td>\n",
       "      <td>https://www.yelp.com/biz/the-outpost-american-...</td>\n",
       "      <td>183</td>\n",
       "      <td>[{'alias': 'bars', 'title': 'Bars'}, {'alias':...</td>\n",
       "      <td>4.5</td>\n",
       "      <td>{'latitude': 39.2774761241692, 'longitude': -7...</td>\n",
       "      <td>[delivery, pickup]</td>\n",
       "      <td>$$</td>\n",
       "      <td>{'address1': '1032 Riverside Ave', 'address2':...</td>\n",
       "      <td>+14433889113</td>\n",
       "      <td>(443) 388-9113</td>\n",
       "      <td>2083.657647</td>\n",
       "    </tr>\n",
       "    <tr>\n",
       "      <th>4</th>\n",
       "      <td>5CM8nuqd0od68GqQ-UGicQ</td>\n",
       "      <td>cookhouse-baltimore-2</td>\n",
       "      <td>CookHouse</td>\n",
       "      <td>https://s3-media2.fl.yelpcdn.com/bphoto/N-2JWj...</td>\n",
       "      <td>False</td>\n",
       "      <td>https://www.yelp.com/biz/cookhouse-baltimore-2...</td>\n",
       "      <td>20</td>\n",
       "      <td>[{'alias': 'newamerican', 'title': 'American (...</td>\n",
       "      <td>5.0</td>\n",
       "      <td>{'latitude': 39.30715667, 'longitude': -76.625...</td>\n",
       "      <td>[delivery, pickup]</td>\n",
       "      <td>NaN</td>\n",
       "      <td>{'address1': '1501 Bolton St', 'address2': Non...</td>\n",
       "      <td>+14102259964</td>\n",
       "      <td>(410) 225-9964</td>\n",
       "      <td>1990.078956</td>\n",
       "    </tr>\n",
       "    <tr>\n",
       "      <th>...</th>\n",
       "      <td>...</td>\n",
       "      <td>...</td>\n",
       "      <td>...</td>\n",
       "      <td>...</td>\n",
       "      <td>...</td>\n",
       "      <td>...</td>\n",
       "      <td>...</td>\n",
       "      <td>...</td>\n",
       "      <td>...</td>\n",
       "      <td>...</td>\n",
       "      <td>...</td>\n",
       "      <td>...</td>\n",
       "      <td>...</td>\n",
       "      <td>...</td>\n",
       "      <td>...</td>\n",
       "      <td>...</td>\n",
       "    </tr>\n",
       "    <tr>\n",
       "      <th>524</th>\n",
       "      <td>rtlLrtUn35c9Y2eIcxHT8g</td>\n",
       "      <td>kings-pizza-and-subs-baltimore-2</td>\n",
       "      <td>King's Pizza &amp; Subs</td>\n",
       "      <td>https://s3-media2.fl.yelpcdn.com/bphoto/9FEdeU...</td>\n",
       "      <td>False</td>\n",
       "      <td>https://www.yelp.com/biz/kings-pizza-and-subs-...</td>\n",
       "      <td>75</td>\n",
       "      <td>[{'alias': 'pizza', 'title': 'Pizza'}]</td>\n",
       "      <td>2.5</td>\n",
       "      <td>{'latitude': 39.33086, 'longitude': -76.63161}</td>\n",
       "      <td>[delivery, pickup]</td>\n",
       "      <td>$$</td>\n",
       "      <td>{'address1': '907 W 36th St', 'address2': None...</td>\n",
       "      <td>+14108893663</td>\n",
       "      <td>(410) 889-3663</td>\n",
       "      <td>4382.210159</td>\n",
       "    </tr>\n",
       "    <tr>\n",
       "      <th>525</th>\n",
       "      <td>cA-DS-nJlfl7IYre-rjH4Q</td>\n",
       "      <td>daily-grind-baltimore-8</td>\n",
       "      <td>Daily Grind</td>\n",
       "      <td>https://s3-media1.fl.yelpcdn.com/bphoto/jrsOvc...</td>\n",
       "      <td>False</td>\n",
       "      <td>https://www.yelp.com/biz/daily-grind-baltimore...</td>\n",
       "      <td>231</td>\n",
       "      <td>[{'alias': 'coffee', 'title': 'Coffee &amp; Tea'},...</td>\n",
       "      <td>3.5</td>\n",
       "      <td>{'latitude': 39.2821578979492, 'longitude': -7...</td>\n",
       "      <td>[delivery]</td>\n",
       "      <td>$</td>\n",
       "      <td>{'address1': '1720 Thames St', 'address2': '',...</td>\n",
       "      <td>+14105580399</td>\n",
       "      <td>(410) 558-0399</td>\n",
       "      <td>2079.005086</td>\n",
       "    </tr>\n",
       "    <tr>\n",
       "      <th>526</th>\n",
       "      <td>vnOzM6USxuhmuXV_uqg0JA</td>\n",
       "      <td>filippos-baltimore</td>\n",
       "      <td>Filippo's</td>\n",
       "      <td>https://s3-media2.fl.yelpcdn.com/bphoto/NiWpYq...</td>\n",
       "      <td>False</td>\n",
       "      <td>https://www.yelp.com/biz/filippos-baltimore?ad...</td>\n",
       "      <td>51</td>\n",
       "      <td>[{'alias': 'pizza', 'title': 'Pizza'}, {'alias...</td>\n",
       "      <td>3.0</td>\n",
       "      <td>{'latitude': 39.28699, 'longitude': -76.56748}</td>\n",
       "      <td>[delivery, pickup]</td>\n",
       "      <td>$</td>\n",
       "      <td>{'address1': '418 S Conkling St', 'address2': ...</td>\n",
       "      <td>+14103274550</td>\n",
       "      <td>(410) 327-4550</td>\n",
       "      <td>3607.859236</td>\n",
       "    </tr>\n",
       "    <tr>\n",
       "      <th>527</th>\n",
       "      <td>x6u_Xd5Zr6skcQsIUiUOng</td>\n",
       "      <td>jazzys-baltimore</td>\n",
       "      <td>Jazzy's</td>\n",
       "      <td>https://s3-media1.fl.yelpcdn.com/bphoto/NcDv9-...</td>\n",
       "      <td>False</td>\n",
       "      <td>https://www.yelp.com/biz/jazzys-baltimore?adju...</td>\n",
       "      <td>1</td>\n",
       "      <td>[{'alias': 'burgers', 'title': 'Burgers'}, {'a...</td>\n",
       "      <td>2.0</td>\n",
       "      <td>{'latitude': 39.322087392211, 'longitude': -76...</td>\n",
       "      <td>[delivery]</td>\n",
       "      <td>NaN</td>\n",
       "      <td>{'address1': '3320 Belair Rd', 'address2': '',...</td>\n",
       "      <td>+14105636222</td>\n",
       "      <td>(410) 563-6222</td>\n",
       "      <td>4134.435594</td>\n",
       "    </tr>\n",
       "    <tr>\n",
       "      <th>528</th>\n",
       "      <td>rMrTzM9EET0wszOng1eINA</td>\n",
       "      <td>chelles-kitchen-baltimore</td>\n",
       "      <td>Chelles kitchen</td>\n",
       "      <td>https://s3-media1.fl.yelpcdn.com/bphoto/M4RMzz...</td>\n",
       "      <td>False</td>\n",
       "      <td>https://www.yelp.com/biz/chelles-kitchen-balti...</td>\n",
       "      <td>11</td>\n",
       "      <td>[{'alias': 'hotdogs', 'title': 'Fast Food'}, {...</td>\n",
       "      <td>2.5</td>\n",
       "      <td>{'latitude': 39.32332, 'longitude': -76.57185}</td>\n",
       "      <td>[delivery, pickup]</td>\n",
       "      <td>NaN</td>\n",
       "      <td>{'address1': '3436 Belair Rd', 'address2': '',...</td>\n",
       "      <td>+14103014414</td>\n",
       "      <td>(410) 301-4414</td>\n",
       "      <td>4311.772603</td>\n",
       "    </tr>\n",
       "  </tbody>\n",
       "</table>\n",
       "<p>529 rows × 16 columns</p>\n",
       "</div>"
      ],
      "text/plain": [
       "                         id                                    alias  \\\n",
       "0    AQ56plNP56TIk3JswtoiMA          abbey-burger-bistro-baltimore-4   \n",
       "1    3j6GTI0V2Jshw8e1c3uFoA           the-urban-burger-bar-baltimore   \n",
       "2    QHVUhI8JBAcqGj1JufDcHw                  wiley-gunters-baltimore   \n",
       "3    jvKhto6__tCGfs2N27oWdg  the-outpost-american-tavern-baltimore-2   \n",
       "4    5CM8nuqd0od68GqQ-UGicQ                    cookhouse-baltimore-2   \n",
       "..                      ...                                      ...   \n",
       "524  rtlLrtUn35c9Y2eIcxHT8g         kings-pizza-and-subs-baltimore-2   \n",
       "525  cA-DS-nJlfl7IYre-rjH4Q                  daily-grind-baltimore-8   \n",
       "526  vnOzM6USxuhmuXV_uqg0JA                       filippos-baltimore   \n",
       "527  x6u_Xd5Zr6skcQsIUiUOng                         jazzys-baltimore   \n",
       "528  rMrTzM9EET0wszOng1eINA                chelles-kitchen-baltimore   \n",
       "\n",
       "                            name  \\\n",
       "0            Abbey Burger Bistro   \n",
       "1           The Urban Burger Bar   \n",
       "2                  Wiley Gunters   \n",
       "3    The Outpost American Tavern   \n",
       "4                      CookHouse   \n",
       "..                           ...   \n",
       "524          King's Pizza & Subs   \n",
       "525                  Daily Grind   \n",
       "526                    Filippo's   \n",
       "527                      Jazzy's   \n",
       "528              Chelles kitchen   \n",
       "\n",
       "                                             image_url  is_closed  \\\n",
       "0    https://s3-media4.fl.yelpcdn.com/bphoto/_ZZ4nI...      False   \n",
       "1    https://s3-media1.fl.yelpcdn.com/bphoto/mmtgGp...      False   \n",
       "2    https://s3-media3.fl.yelpcdn.com/bphoto/Lc-4k9...      False   \n",
       "3    https://s3-media2.fl.yelpcdn.com/bphoto/4bN4vA...      False   \n",
       "4    https://s3-media2.fl.yelpcdn.com/bphoto/N-2JWj...      False   \n",
       "..                                                 ...        ...   \n",
       "524  https://s3-media2.fl.yelpcdn.com/bphoto/9FEdeU...      False   \n",
       "525  https://s3-media1.fl.yelpcdn.com/bphoto/jrsOvc...      False   \n",
       "526  https://s3-media2.fl.yelpcdn.com/bphoto/NiWpYq...      False   \n",
       "527  https://s3-media1.fl.yelpcdn.com/bphoto/NcDv9-...      False   \n",
       "528  https://s3-media1.fl.yelpcdn.com/bphoto/M4RMzz...      False   \n",
       "\n",
       "                                                   url  review_count  \\\n",
       "0    https://www.yelp.com/biz/abbey-burger-bistro-b...           914   \n",
       "1    https://www.yelp.com/biz/the-urban-burger-bar-...            32   \n",
       "2    https://www.yelp.com/biz/wiley-gunters-baltimo...           135   \n",
       "3    https://www.yelp.com/biz/the-outpost-american-...           183   \n",
       "4    https://www.yelp.com/biz/cookhouse-baltimore-2...            20   \n",
       "..                                                 ...           ...   \n",
       "524  https://www.yelp.com/biz/kings-pizza-and-subs-...            75   \n",
       "525  https://www.yelp.com/biz/daily-grind-baltimore...           231   \n",
       "526  https://www.yelp.com/biz/filippos-baltimore?ad...            51   \n",
       "527  https://www.yelp.com/biz/jazzys-baltimore?adju...             1   \n",
       "528  https://www.yelp.com/biz/chelles-kitchen-balti...            11   \n",
       "\n",
       "                                            categories  rating  \\\n",
       "0    [{'alias': 'sportsbars', 'title': 'Sports Bars...     4.0   \n",
       "1           [{'alias': 'burgers', 'title': 'Burgers'}]     4.5   \n",
       "2    [{'alias': 'burgers', 'title': 'Burgers'}, {'a...     4.5   \n",
       "3    [{'alias': 'bars', 'title': 'Bars'}, {'alias':...     4.5   \n",
       "4    [{'alias': 'newamerican', 'title': 'American (...     5.0   \n",
       "..                                                 ...     ...   \n",
       "524             [{'alias': 'pizza', 'title': 'Pizza'}]     2.5   \n",
       "525  [{'alias': 'coffee', 'title': 'Coffee & Tea'},...     3.5   \n",
       "526  [{'alias': 'pizza', 'title': 'Pizza'}, {'alias...     3.0   \n",
       "527  [{'alias': 'burgers', 'title': 'Burgers'}, {'a...     2.0   \n",
       "528  [{'alias': 'hotdogs', 'title': 'Fast Food'}, {...     2.5   \n",
       "\n",
       "                                           coordinates        transactions  \\\n",
       "0    {'latitude': 39.2771835822848, 'longitude': -7...  [delivery, pickup]   \n",
       "1       {'latitude': 39.32696, 'longitude': -76.63753}  [delivery, pickup]   \n",
       "2       {'latitude': 39.27174, 'longitude': -76.60223}  [delivery, pickup]   \n",
       "3    {'latitude': 39.2774761241692, 'longitude': -7...  [delivery, pickup]   \n",
       "4    {'latitude': 39.30715667, 'longitude': -76.625...  [delivery, pickup]   \n",
       "..                                                 ...                 ...   \n",
       "524     {'latitude': 39.33086, 'longitude': -76.63161}  [delivery, pickup]   \n",
       "525  {'latitude': 39.2821578979492, 'longitude': -7...          [delivery]   \n",
       "526     {'latitude': 39.28699, 'longitude': -76.56748}  [delivery, pickup]   \n",
       "527  {'latitude': 39.322087392211, 'longitude': -76...          [delivery]   \n",
       "528     {'latitude': 39.32332, 'longitude': -76.57185}  [delivery, pickup]   \n",
       "\n",
       "    price                                           location         phone  \\\n",
       "0      $$  {'address1': '1041 Marshall St', 'address2': '...  +14434539698   \n",
       "1      $$  {'address1': '3300 Clipper Mill Rd', 'address2...                 \n",
       "2      $$  {'address1': '823 E Fort Ave', 'address2': '',...  +14106373699   \n",
       "3      $$  {'address1': '1032 Riverside Ave', 'address2':...  +14433889113   \n",
       "4     NaN  {'address1': '1501 Bolton St', 'address2': Non...  +14102259964   \n",
       "..    ...                                                ...           ...   \n",
       "524    $$  {'address1': '907 W 36th St', 'address2': None...  +14108893663   \n",
       "525     $  {'address1': '1720 Thames St', 'address2': '',...  +14105580399   \n",
       "526     $  {'address1': '418 S Conkling St', 'address2': ...  +14103274550   \n",
       "527   NaN  {'address1': '3320 Belair Rd', 'address2': '',...  +14105636222   \n",
       "528   NaN  {'address1': '3436 Belair Rd', 'address2': '',...  +14103014414   \n",
       "\n",
       "      display_phone     distance  \n",
       "0    (443) 453-9698  2161.212353  \n",
       "1                    4242.702639  \n",
       "2    (410) 637-3699  2754.995467  \n",
       "3    (443) 388-9113  2083.657647  \n",
       "4    (410) 225-9964  1990.078956  \n",
       "..              ...          ...  \n",
       "524  (410) 889-3663  4382.210159  \n",
       "525  (410) 558-0399  2079.005086  \n",
       "526  (410) 327-4550  3607.859236  \n",
       "527  (410) 563-6222  4134.435594  \n",
       "528  (410) 301-4414  4311.772603  \n",
       "\n",
       "[529 rows x 16 columns]"
      ]
     },
     "execution_count": 56,
     "metadata": {},
     "output_type": "execute_result"
    }
   ],
   "source": [
    "df = pd.read_json(JSON_FILE)\n",
    "df"
   ]
  },
  {
   "cell_type": "code",
   "execution_count": 58,
   "metadata": {},
   "outputs": [
    {
     "data": {
      "text/plain": [
       "0"
      ]
     },
     "execution_count": 58,
     "metadata": {},
     "output_type": "execute_result"
    }
   ],
   "source": [
    "df.duplicated(subset='id').sum()"
   ]
  },
  {
   "cell_type": "code",
   "execution_count": 59,
   "metadata": {},
   "outputs": [
    {
     "data": {
      "text/plain": [
       "'Data/Burgers_Baltimore.csv.gz'"
      ]
     },
     "execution_count": 59,
     "metadata": {},
     "output_type": "execute_result"
    }
   ],
   "source": [
    "## convert the filename to a .csv.gz\n",
    "csv_file = JSON_FILE.replace('.json','.csv.gz')\n",
    "csv_file"
   ]
  },
  {
   "cell_type": "code",
   "execution_count": 60,
   "metadata": {},
   "outputs": [],
   "source": [
    "## Save it as a compressed csv (to save space)\n",
    "df.to_csv(csv_file, compression='gzip', index=False)"
   ]
  },
  {
   "cell_type": "markdown",
   "metadata": {},
   "source": [
    "## Bonus: compare filesize with os module's `os.path.getsize`"
   ]
  },
  {
   "cell_type": "code",
   "execution_count": 63,
   "metadata": {},
   "outputs": [
    {
     "name": "stdout",
     "output_type": "stream",
     "text": [
      "JSON FILE: 519,369 Bytes\n",
      "CSV.GZ FILE: 73,272 Bytes\n",
      "the csv.gz is 7.09 times smaller!\n"
     ]
    }
   ],
   "source": [
    "size_json = os.path.getsize(JSON_FILE)\n",
    "size_csv_gz = os.path.getsize(csv_file)\n",
    "\n",
    "print(f'JSON FILE: {size_json:,} Bytes')\n",
    "print(f'CSV.GZ FILE: {size_csv_gz:,} Bytes')\n",
    "\n",
    "print(f'the csv.gz is {size_json/size_csv_gz:.2f} times smaller!')"
   ]
  },
  {
   "cell_type": "markdown",
   "metadata": {},
   "source": [
    "## Next Class: Processing the Results and Mapping "
   ]
  }
 ],
 "metadata": {
  "colab": {
   "collapsed_sections": [],
   "name": "Test Yelp API Package.ipynb",
   "provenance": []
  },
  "kernelspec": {
   "display_name": "Python (dojo-env)",
   "language": "python",
   "name": "dojo-env"
  },
  "language_info": {
   "codemirror_mode": {
    "name": "ipython",
    "version": 3
   },
   "file_extension": ".py",
   "mimetype": "text/x-python",
   "name": "python",
   "nbconvert_exporter": "python",
   "pygments_lexer": "ipython3",
   "version": "3.7.12"
  },
  "toc": {
   "base_numbering": 1,
   "nav_menu": {},
   "number_sections": false,
   "sideBar": true,
   "skip_h1_title": false,
   "title_cell": "Table of Contents",
   "title_sidebar": "Contents",
   "toc_cell": false,
   "toc_position": {},
   "toc_section_display": true,
   "toc_window_display": true
  }
 },
 "nbformat": 4,
 "nbformat_minor": 1
}
